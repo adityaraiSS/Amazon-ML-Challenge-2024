{
 "cells": [
  {
   "cell_type": "code",
   "execution_count": 1,
   "id": "12b35c93",
   "metadata": {},
   "outputs": [],
   "source": [
    "import pandas as pd\n",
    "\n",
    "data = pd.read_csv(\"train.csv\")"
   ]
  },
  {
   "cell_type": "code",
   "execution_count": 2,
   "id": "390e05e8",
   "metadata": {},
   "outputs": [
    {
     "data": {
      "text/html": [
       "<div>\n",
       "<style scoped>\n",
       "    .dataframe tbody tr th:only-of-type {\n",
       "        vertical-align: middle;\n",
       "    }\n",
       "\n",
       "    .dataframe tbody tr th {\n",
       "        vertical-align: top;\n",
       "    }\n",
       "\n",
       "    .dataframe thead th {\n",
       "        text-align: right;\n",
       "    }\n",
       "</style>\n",
       "<table border=\"1\" class=\"dataframe\">\n",
       "  <thead>\n",
       "    <tr style=\"text-align: right;\">\n",
       "      <th></th>\n",
       "      <th>image_link</th>\n",
       "      <th>group_id</th>\n",
       "      <th>entity_name</th>\n",
       "      <th>entity_value</th>\n",
       "    </tr>\n",
       "  </thead>\n",
       "  <tbody>\n",
       "    <tr>\n",
       "      <th>0</th>\n",
       "      <td>https://m.media-amazon.com/images/I/61I9XdN6OF...</td>\n",
       "      <td>748919</td>\n",
       "      <td>item_weight</td>\n",
       "      <td>500.0 gram</td>\n",
       "    </tr>\n",
       "    <tr>\n",
       "      <th>1</th>\n",
       "      <td>https://m.media-amazon.com/images/I/71gSRbyXmo...</td>\n",
       "      <td>916768</td>\n",
       "      <td>item_volume</td>\n",
       "      <td>1.0 cup</td>\n",
       "    </tr>\n",
       "    <tr>\n",
       "      <th>2</th>\n",
       "      <td>https://m.media-amazon.com/images/I/61BZ4zrjZX...</td>\n",
       "      <td>459516</td>\n",
       "      <td>item_weight</td>\n",
       "      <td>0.709 gram</td>\n",
       "    </tr>\n",
       "    <tr>\n",
       "      <th>3</th>\n",
       "      <td>https://m.media-amazon.com/images/I/612mrlqiI4...</td>\n",
       "      <td>459516</td>\n",
       "      <td>item_weight</td>\n",
       "      <td>0.709 gram</td>\n",
       "    </tr>\n",
       "    <tr>\n",
       "      <th>4</th>\n",
       "      <td>https://m.media-amazon.com/images/I/617Tl40LOX...</td>\n",
       "      <td>731432</td>\n",
       "      <td>item_weight</td>\n",
       "      <td>1400 milligram</td>\n",
       "    </tr>\n",
       "  </tbody>\n",
       "</table>\n",
       "</div>"
      ],
      "text/plain": [
       "                                          image_link  group_id  entity_name  \\\n",
       "0  https://m.media-amazon.com/images/I/61I9XdN6OF...    748919  item_weight   \n",
       "1  https://m.media-amazon.com/images/I/71gSRbyXmo...    916768  item_volume   \n",
       "2  https://m.media-amazon.com/images/I/61BZ4zrjZX...    459516  item_weight   \n",
       "3  https://m.media-amazon.com/images/I/612mrlqiI4...    459516  item_weight   \n",
       "4  https://m.media-amazon.com/images/I/617Tl40LOX...    731432  item_weight   \n",
       "\n",
       "     entity_value  \n",
       "0      500.0 gram  \n",
       "1         1.0 cup  \n",
       "2      0.709 gram  \n",
       "3      0.709 gram  \n",
       "4  1400 milligram  "
      ]
     },
     "execution_count": 2,
     "metadata": {},
     "output_type": "execute_result"
    }
   ],
   "source": [
    "data.head(5)"
   ]
  },
  {
   "cell_type": "code",
   "execution_count": 4,
   "id": "ed151b18",
   "metadata": {},
   "outputs": [
    {
     "data": {
      "text/plain": [
       "array(['item_weight', 'item_volume', 'voltage', 'wattage',\n",
       "       'maximum_weight_recommendation', 'height', 'depth', 'width'],\n",
       "      dtype=object)"
      ]
     },
     "execution_count": 4,
     "metadata": {},
     "output_type": "execute_result"
    }
   ],
   "source": [
    "data[\"entity_name\"].unique()"
   ]
  },
  {
   "cell_type": "code",
   "execution_count": 6,
   "id": "7e7ea402",
   "metadata": {},
   "outputs": [
    {
     "name": "stdout",
     "output_type": "stream",
     "text": [
      "Looking in indexes: https://pypi.tuna.tsinghua.edu.cn/simple"
     ]
    },
    {
     "name": "stderr",
     "output_type": "stream",
     "text": [
      "You are using pip version 19.0.3, however version 24.0 is available.\n",
      "You should consider upgrading via the 'python -m pip install --upgrade pip' command.\n"
     ]
    },
    {
     "name": "stdout",
     "output_type": "stream",
     "text": [
      "\n",
      "Collecting easyocr\n",
      "  Downloading https://pypi.tuna.tsinghua.edu.cn/packages/cb/0e/09bafec31db720e796d3f5b0814c37c5fdb59dcd35a2c6c6b1c774b09646/easyocr-1.7.1-py3-none-any.whl (2.9MB)\n",
      "Requirement already satisfied: Pillow in c:\\users\\win\\.pyenv\\pyenv-win\\versions\\3.7.4\\lib\\site-packages (from easyocr) (9.5.0)\n",
      "Collecting Shapely (from easyocr)\n",
      "  Downloading https://pypi.tuna.tsinghua.edu.cn/packages/19/41/40aa902cf93445ecefea2d1735aa07b837c8dceefd6fc70f206898803d28/shapely-2.0.6-cp37-cp37m-win_amd64.whl (1.5MB)\n",
      "Collecting scikit-image (from easyocr)\n",
      "  Downloading https://pypi.tuna.tsinghua.edu.cn/packages/10/1c/a35217c9e918bbf9ac8cbb3d2a604f552b14851a97d3fb2282e34b7a8d7d/scikit_image-0.19.3-cp37-cp37m-win_amd64.whl (12.1MB)\n",
      "Collecting ninja (from easyocr)\n",
      "  Using cached https://pypi.tuna.tsinghua.edu.cn/packages/b6/2f/a3bc50fa63fc4fe9348e15b53dc8c87febfd4e0c660fcf250c4b19a3aa3b/ninja-1.11.1.1-py2.py3-none-win_amd64.whl\n",
      "Collecting python-bidi (from easyocr)\n",
      "  Downloading https://pypi.tuna.tsinghua.edu.cn/packages/99/b5/bec667f30e514ea07638da6dea5053f684763ca6374fa54ab81dbd2303d8/python_bidi-0.6.0-cp37-none-win_amd64.whl (156kB)\n",
      "Requirement already satisfied: scipy in c:\\users\\win\\.pyenv\\pyenv-win\\versions\\3.7.4\\lib\\site-packages (from easyocr) (1.7.3)\n",
      "Collecting opencv-python-headless (from easyocr)\n",
      "  Downloading https://pypi.tuna.tsinghua.edu.cn/packages/2f/7e/d20f68a5f1487adf19d74378d349932a386b1ece3be9be9915e5986db468/opencv-python-headless-4.10.0.84.tar.gz (95.1MB)\n",
      "  Installing build dependencies: started\n",
      "  Installing build dependencies: still running...\n",
      "  Installing build dependencies: still running...\n",
      "  Installing build dependencies: still running...\n",
      "  Installing build dependencies: finished with status 'done'\n",
      "  Getting requirements to build wheel: started\n",
      "  Getting requirements to build wheel: finished with status 'done'\n",
      "    Preparing wheel metadata: started\n",
      "    Preparing wheel metadata: finished with status 'done'\n",
      "Collecting torchvision>=0.5 (from easyocr)\n",
      "  Downloading https://pypi.tuna.tsinghua.edu.cn/packages/77/ec/ccdfcafb958f6007cc357ce12fd945551a71503b88cd3f78e49fd958f949/torchvision-0.14.1-cp37-cp37m-win_amd64.whl (1.1MB)\n",
      "Collecting PyYAML (from easyocr)\n",
      "  Downloading https://pypi.tuna.tsinghua.edu.cn/packages/1e/ae/964ccb88a938f20ece5754878f182cfbd846924930d02d29d06af8d4c69e/PyYAML-6.0.1-cp37-cp37m-win_amd64.whl (153kB)\n",
      "Requirement already satisfied: numpy in c:\\users\\win\\.pyenv\\pyenv-win\\versions\\3.7.4\\lib\\site-packages (from easyocr) (1.21.6)\n",
      "Collecting pyclipper (from easyocr)\n",
      "  Downloading https://pypi.tuna.tsinghua.edu.cn/packages/15/58/894e87e75e5044a889ca76df640eb2cd56d7e9115fd0bc900ab2e52a15a8/pyclipper-1.3.0.post5-cp37-cp37m-win_amd64.whl (108kB)\n",
      "Requirement already satisfied: torch in c:\\users\\win\\.pyenv\\pyenv-win\\versions\\3.7.4\\lib\\site-packages (from easyocr) (1.13.1)\n",
      "Collecting PyWavelets>=1.1.1 (from scikit-image->easyocr)\n",
      "  Downloading https://pypi.tuna.tsinghua.edu.cn/packages/48/ec/fe84e23bf150a473532937716ffc6c783b53337936e17b3bb1e2a3b42156/PyWavelets-1.4.0.tar.gz (4.6MB)\n",
      "  Installing build dependencies: started\n",
      "  Installing build dependencies: still running...\n",
      "  Installing build dependencies: finished with status 'done'\n",
      "  Getting requirements to build wheel: started\n",
      "  Getting requirements to build wheel: finished with status 'done'\n",
      "    Preparing wheel metadata: started\n",
      "    Preparing wheel metadata: finished with status 'done'\n",
      "Requirement already satisfied: packaging>=20.0 in c:\\users\\win\\.pyenv\\pyenv-win\\versions\\3.7.4\\lib\\site-packages (from scikit-image->easyocr) (24.0)\n",
      "Collecting imageio>=2.4.1 (from scikit-image->easyocr)\n",
      "  Downloading https://pypi.tuna.tsinghua.edu.cn/packages/7b/88/59411e1a652ac3338d348901ffa5a73daf1f67fcb3f97d750237d4fa0821/imageio-2.31.2-py3-none-any.whl (313kB)\n",
      "Collecting tifffile>=2019.7.26 (from scikit-image->easyocr)\n",
      "  Downloading https://pypi.tuna.tsinghua.edu.cn/packages/d8/38/85ae5ed77598ca90558c17a2f79ddaba33173b31cf8d8f545d34d9134f0d/tifffile-2021.11.2-py3-none-any.whl (178kB)\n",
      "Collecting networkx>=2.2 (from scikit-image->easyocr)\n",
      "  Downloading https://pypi.tuna.tsinghua.edu.cn/packages/e9/93/aa6613aa70d6eb4868e667068b5a11feca9645498fd31b954b6c4bb82fa5/networkx-2.6.3-py3-none-any.whl (1.9MB)\n",
      "Requirement already satisfied: typing-extensions in c:\\users\\win\\.pyenv\\pyenv-win\\versions\\3.7.4\\lib\\site-packages (from torchvision>=0.5->easyocr) (4.7.1)\n",
      "Requirement already satisfied: requests in c:\\users\\win\\.pyenv\\pyenv-win\\versions\\3.7.4\\lib\\site-packages (from torchvision>=0.5->easyocr) (2.31.0)\n",
      "Requirement already satisfied: certifi>=2017.4.17 in c:\\users\\win\\.pyenv\\pyenv-win\\versions\\3.7.4\\lib\\site-packages (from requests->torchvision>=0.5->easyocr) (2024.7.4)\n",
      "Requirement already satisfied: urllib3<3,>=1.21.1 in c:\\users\\win\\.pyenv\\pyenv-win\\versions\\3.7.4\\lib\\site-packages (from requests->torchvision>=0.5->easyocr) (2.0.7)\n",
      "Requirement already satisfied: charset-normalizer<4,>=2 in c:\\users\\win\\.pyenv\\pyenv-win\\versions\\3.7.4\\lib\\site-packages (from requests->torchvision>=0.5->easyocr) (3.3.2)\n",
      "Requirement already satisfied: idna<4,>=2.5 in c:\\users\\win\\.pyenv\\pyenv-win\\versions\\3.7.4\\lib\\site-packages (from requests->torchvision>=0.5->easyocr) (3.7)\n",
      "Building wheels for collected packages: opencv-python-headless, PyWavelets\n",
      "  Building wheel for opencv-python-headless (PEP 517): started\n",
      "  Building wheel for opencv-python-headless (PEP 517): still running...\n",
      "  Building wheel for opencv-python-headless (PEP 517): still running...\n",
      "  Building wheel for opencv-python-headless (PEP 517): still running...\n",
      "  Building wheel for opencv-python-headless (PEP 517): still running...\n",
      "  Building wheel for opencv-python-headless (PEP 517): still running...\n",
      "  Building wheel for opencv-python-headless (PEP 517): still running...\n",
      "  Building wheel for opencv-python-headless (PEP 517): still running...\n",
      "  Building wheel for opencv-python-headless (PEP 517): still running...\n",
      "  Building wheel for opencv-python-headless (PEP 517): still running...\n",
      "  Building wheel for opencv-python-headless (PEP 517): still running...\n",
      "  Building wheel for opencv-python-headless (PEP 517): still running...\n",
      "  Building wheel for opencv-python-headless (PEP 517): still running...\n",
      "  Building wheel for opencv-python-headless (PEP 517): still running...\n",
      "  Building wheel for opencv-python-headless (PEP 517): still running...\n",
      "  Building wheel for opencv-python-headless (PEP 517): still running...\n",
      "  Building wheel for opencv-python-headless (PEP 517): still running...\n",
      "  Building wheel for opencv-python-headless (PEP 517): still running...\n",
      "  Building wheel for opencv-python-headless (PEP 517): still running...\n",
      "  Building wheel for opencv-python-headless (PEP 517): still running...\n",
      "  Building wheel for opencv-python-headless (PEP 517): still running...\n",
      "  Building wheel for opencv-python-headless (PEP 517): still running...\n",
      "  Building wheel for opencv-python-headless (PEP 517): still running...\n",
      "  Building wheel for opencv-python-headless (PEP 517): still running...\n",
      "  Building wheel for opencv-python-headless (PEP 517): still running...\n",
      "  Building wheel for opencv-python-headless (PEP 517): still running...\n",
      "  Building wheel for opencv-python-headless (PEP 517): finished with status 'done'\n",
      "  Stored in directory: C:\\Users\\win\\AppData\\Local\\pip\\Cache\\wheels\\06\\5d\\21\\046e0f3b9b2d9ab482bd316bcb50e7f443a41a76dd95675a08\n",
      "  Building wheel for PyWavelets (PEP 517): started\n",
      "  Building wheel for PyWavelets (PEP 517): finished with status 'done'\n",
      "  Stored in directory: C:\\Users\\win\\AppData\\Local\\pip\\Cache\\wheels\\74\\cf\\f7\\d44cf71ea69460ebe479e37611cc6642bdf58eea7371287acc\n",
      "Successfully built opencv-python-headless PyWavelets\n",
      "Installing collected packages: Shapely, PyWavelets, imageio, tifffile, networkx, scikit-image, ninja, python-bidi, opencv-python-headless, torchvision, PyYAML, pyclipper, easyocr\n",
      "Successfully installed PyWavelets-1.4.0 PyYAML-6.0.1 Shapely-2.0.6 easyocr-1.7.1 imageio-2.31.2 networkx-2.6.3 ninja-1.11.1.1 opencv-python-headless-4.10.0.84 pyclipper-1.3.0.post5 python-bidi-0.6.0 scikit-image-0.19.3 tifffile-2021.11.2 torchvision-0.14.1\n"
     ]
    }
   ],
   "source": [
    "!pip install easyocr\n"
   ]
  },
  {
   "cell_type": "code",
   "execution_count": 7,
   "id": "4c1ef3bc",
   "metadata": {},
   "outputs": [
    {
     "name": "stderr",
     "output_type": "stream",
     "text": [
      "c:\\users\\win\\.pyenv\\pyenv-win\\versions\\3.7.4\\lib\\site-packages\\tqdm\\auto.py:21: TqdmWarning: IProgress not found. Please update jupyter and ipywidgets. See https://ipywidgets.readthedocs.io/en/stable/user_install.html\n",
      "  from .autonotebook import tqdm as notebook_tqdm\n",
      "Neither CUDA nor MPS are available - defaulting to CPU. Note: This module is much faster with a GPU.\n",
      "Downloading detection model, please wait. This may take several minutes depending upon your network connection.\n"
     ]
    },
    {
     "name": "stdout",
     "output_type": "stream",
     "text": [
      "Progress: |██████████████████████████████████████████████████| 100.0% Complete"
     ]
    },
    {
     "name": "stderr",
     "output_type": "stream",
     "text": [
      "Downloading recognition model, please wait. This may take several minutes depending upon your network connection.\n"
     ]
    },
    {
     "name": "stdout",
     "output_type": "stream",
     "text": [
      "Progress: |██████████████████████████████████████████████████| 100.0% Complete[([[104, 172], [134, 172], [134, 200], [104, 200]], '(GMP', 0.3317347764968872), ([[161, 194], [255, 194], [255, 224], [161, 224]], 'NUVIDA', 0.6889253418876597), ([[169, 221], [249, 221], [249, 235], [169, 235]], 'NATURAL HEALTH', 0.9929288620625657), ([[94, 366], [335, 366], [335, 418], [94, 418]], 'CRANBERRY EXTRACT', 0.7622281473972141), ([[151, 403], [177, 403], [177, 417], [151, 417]], 'High', 0.9987033009529114), ([[113, 409], [149, 409], [149, 425], [113, 425]], 'Natural', 0.9776981923656172), ([[184, 416], [312, 416], [312, 442], [184, 442]], 'Tract and Bladder Support', 0.5601712867664559), ([[108, 426], [177, 426], [177, 447], [108, 447]], 'SUITABLE FOR', 0.9302198687211487), ([[245, 441], [315, 441], [315, 459], [245, 459]], 'AND VEGANS', 0.9862204754750432), ([[174.98595974687322, 402.2761315696845], [217.94304067756627, 407.52608763961797], [216.01404025312678, 422.7238684303155], [173.05695932243373, 418.47391236038203]], 'Strength \"', 0.4529412760952439), ([[217.4929798734366, 406.13806578484224], [253.97741416543985, 410.7886672074725], [251.5070201265634, 424.86193421515776], [215.02258583456015, 419.2113327925275]], 'Extra', 0.32862272131611225), ([[147.53425356716738, 411.115081777618], [187.9857364255104, 417.83170353710796], [185.46574643283262, 431.884918222382], [145.0142635744896, 425.16829646289204]], 'Utzty', 0.38147570854778323), ([[175.1401328392153, 430.19427896235214], [246.98742373066506, 438.776064931756], [243.8598671607847, 454.80572103764786], [172.01257626933494, 447.223935068244]], 'VFGETARLANS', 0.42736690091258306), ([[243.51435706882137, 469.12584272387846], [283.9814905920257, 474.8084896405804], [281.48564293117863, 488.87415727612154], [241.0185094079743, 483.1915103594196]], '5o0um', 0.08848105800790576), ([[303.4929798734366, 475.13806578484224], [337.96849293259686, 479.7509589601894], [335.5070201265634, 493.86193421515776], [301.03150706740314, 489.2490410398106]], 'Tblets', 0.4979754447254313), ([[237.02871413764274, 483.2516854477569], [268.8651361965482, 487.27801179488455], [265.97128586235726, 504.7483145522431], [234.13486380345182, 500.72198820511545]], 'Food', 0.9997012615203857), ([[267.3273272060037, 484.1165161768103], [338.99519484193536, 497.8614448026434], [334.6726727939963, 515.8834838231896], [263.00480515806464, 503.1385551973566]], 'Supplement', 0.9823971651405256)]\n"
     ]
    }
   ],
   "source": [
    "import easyocr\n",
    "\n",
    "reader = easyocr.Reader(['en'])  # Specify language\n",
    "result = reader.readtext('example_image.jpg')\n",
    "print(result)\n"
   ]
  },
  {
   "cell_type": "code",
   "execution_count": null,
   "id": "8331baaf",
   "metadata": {},
   "outputs": [],
   "source": []
  }
 ],
 "metadata": {
  "kernelspec": {
   "display_name": "Python 3 (ipykernel)",
   "language": "python",
   "name": "python3"
  },
  "language_info": {
   "codemirror_mode": {
    "name": "ipython",
    "version": 3
   },
   "file_extension": ".py",
   "mimetype": "text/x-python",
   "name": "python",
   "nbconvert_exporter": "python",
   "pygments_lexer": "ipython3",
   "version": "3.7.4"
  }
 },
 "nbformat": 4,
 "nbformat_minor": 5
}
